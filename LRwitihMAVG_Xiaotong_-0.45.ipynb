{
 "cells": [
  {
   "cell_type": "code",
   "execution_count": 1,
   "metadata": {},
   "outputs": [],
   "source": [
    "import pandas as pd\n",
    "import numpy as np\n",
    "from sklearn.svm import SVR\n",
    "from sklearn.linear_model import LinearRegression\n",
    "import matplotlib.pyplot as plt\n",
    "from sklearn.metrics import r2_score\n",
    "from sklearn import preprocessing\n",
    "from sklearn.model_selection import train_test_split\n"
   ]
  },
  {
   "cell_type": "code",
   "execution_count": 2,
   "metadata": {},
   "outputs": [],
   "source": [
    "df_DUS = pd.read_csv('stations/station_6335050_river_data.csv')\n",
    "df_KOL = pd.read_csv('stations_cologne_fixed/station_6335060_river_data.csv')\n",
    "df_DUS.date = pd.to_datetime(df_DUS.date, format='%Y-%m-%d')\n",
    "df_KOL.date = pd.to_datetime(df_KOL.date, format='%Y-%m-%d')"
   ]
  },
  {
   "cell_type": "code",
   "execution_count": 3,
   "metadata": {
    "scrolled": true
   },
   "outputs": [],
   "source": [
    "df_DUS['discharge_Day-1'] = df_DUS.discharge.shift(1)\n",
    "df_DUS['discharge_Day-2'] = df_DUS.discharge.shift(2)\n",
    "df_DUS['discharge_Day-3'] = df_DUS.discharge.shift(3)\n",
    "df_DUS['MAVG_Day3'] =  df_DUS['discharge_Day-3'].rolling(window=3).mean()\n",
    "df_DUS['MAVG_week'] =  df_DUS['discharge_Day-3'].rolling(window=7).mean()\n",
    "df_DUS_dNull = df_DUS.iloc[9:]\n"
   ]
  },
  {
   "cell_type": "code",
   "execution_count": 11,
   "metadata": {
    "scrolled": false
   },
   "outputs": [],
   "source": [
    "df_KOL['discharge_Day-1'] = df_KOL.discharge.shift(1)\n",
    "df_KOL['discharge_Day-2'] = df_KOL.discharge.shift(2)\n",
    "df_KOL['discharge_Day-3'] = df_KOL.discharge.shift(3)\n",
    "df_KOL['MAVG_Day3'] =  df_KOL['discharge_Day-3'].rolling(window=3).mean()\n",
    "df_KOL['MAVG_week'] =  df_KOL['discharge_Day-3'].rolling(window=7).mean()\n",
    "df_KOL_dNull = df_KOL.iloc[9:]"
   ]
  },
  {
   "cell_type": "code",
   "execution_count": 6,
   "metadata": {
    "scrolled": true
   },
   "outputs": [
    {
     "data": {
      "text/html": [
       "<div>\n",
       "<style scoped>\n",
       "    .dataframe tbody tr th:only-of-type {\n",
       "        vertical-align: middle;\n",
       "    }\n",
       "\n",
       "    .dataframe tbody tr th {\n",
       "        vertical-align: top;\n",
       "    }\n",
       "\n",
       "    .dataframe thead th {\n",
       "        text-align: right;\n",
       "    }\n",
       "</style>\n",
       "<table border=\"1\" class=\"dataframe\">\n",
       "  <thead>\n",
       "    <tr style=\"text-align: right;\">\n",
       "      <th></th>\n",
       "      <th>date</th>\n",
       "      <th>station_no</th>\n",
       "      <th>discharge</th>\n",
       "      <th>water_level</th>\n",
       "      <th>year</th>\n",
       "      <th>month</th>\n",
       "      <th>delta1</th>\n",
       "      <th>delta2</th>\n",
       "      <th>delta3</th>\n",
       "      <th>discharge_Day-1</th>\n",
       "      <th>discharge_Day-2</th>\n",
       "      <th>discharge_Day-3</th>\n",
       "      <th>MAVG_Day3</th>\n",
       "      <th>MAVG_week</th>\n",
       "    </tr>\n",
       "  </thead>\n",
       "  <tbody>\n",
       "  </tbody>\n",
       "</table>\n",
       "</div>"
      ],
      "text/plain": [
       "Empty DataFrame\n",
       "Columns: [date, station_no, discharge, water_level, year, month, delta1, delta2, delta3, discharge_Day-1, discharge_Day-2, discharge_Day-3, MAVG_Day3, MAVG_week]\n",
       "Index: []"
      ]
     },
     "execution_count": 6,
     "metadata": {},
     "output_type": "execute_result"
    }
   ],
   "source": [
    "df_DUS_dNull[pd.isnull(df_DUS_dNull).any(axis=1)]"
   ]
  },
  {
   "cell_type": "code",
   "execution_count": 89,
   "metadata": {
    "scrolled": true
   },
   "outputs": [
    {
     "data": {
      "text/html": [
       "<div>\n",
       "<style scoped>\n",
       "    .dataframe tbody tr th:only-of-type {\n",
       "        vertical-align: middle;\n",
       "    }\n",
       "\n",
       "    .dataframe tbody tr th {\n",
       "        vertical-align: top;\n",
       "    }\n",
       "\n",
       "    .dataframe thead th {\n",
       "        text-align: right;\n",
       "    }\n",
       "</style>\n",
       "<table border=\"1\" class=\"dataframe\">\n",
       "  <thead>\n",
       "    <tr style=\"text-align: right;\">\n",
       "      <th></th>\n",
       "      <th>Unnamed: 0</th>\n",
       "      <th>date</th>\n",
       "      <th>station_no</th>\n",
       "      <th>discharge</th>\n",
       "      <th>water_level</th>\n",
       "      <th>year</th>\n",
       "      <th>month</th>\n",
       "      <th>delta1</th>\n",
       "      <th>delta2</th>\n",
       "      <th>delta3</th>\n",
       "      <th>discharge_Day-1</th>\n",
       "      <th>discharge_Day-2</th>\n",
       "      <th>discharge_Day-3</th>\n",
       "      <th>MAVG_Day3</th>\n",
       "      <th>MAVG_Day7</th>\n",
       "      <th>MAVG_week</th>\n",
       "    </tr>\n",
       "  </thead>\n",
       "  <tbody>\n",
       "  </tbody>\n",
       "</table>\n",
       "</div>"
      ],
      "text/plain": [
       "Empty DataFrame\n",
       "Columns: [Unnamed: 0, date, station_no, discharge, water_level, year, month, delta1, delta2, delta3, discharge_Day-1, discharge_Day-2, discharge_Day-3, MAVG_Day3, MAVG_Day7, MAVG_week]\n",
       "Index: []"
      ]
     },
     "execution_count": 89,
     "metadata": {},
     "output_type": "execute_result"
    }
   ],
   "source": [
    "df_KOL_dNull[pd.isnull(df_KOL_dNull).any(axis=1)]"
   ]
  },
  {
   "cell_type": "code",
   "execution_count": 14,
   "metadata": {
    "scrolled": true
   },
   "outputs": [],
   "source": [
    "#df_DUS_dNull = df_DUS.dropna()\n",
    "#df_KOL_dNull = df_KOL.dropna()"
   ]
  },
  {
   "cell_type": "code",
   "execution_count": 5,
   "metadata": {},
   "outputs": [],
   "source": [
    "X1_DUS = np.array(df_DUS_dNull['discharge_Day-3']).reshape(-1,1)\n",
    "X2_DUS = np.array(df_DUS_dNull['MAVG_Day3']).reshape(-1,1)\n",
    "X3_DUS = np.array(df_DUS_dNull['MAVG_week']).reshape(-1,1)\n",
    "y0_DUS = np.array(df_DUS_dNull.water_level).reshape(-1,1)\n",
    "y1_DUS = np.array(df_DUS_dNull.delta1).reshape(-1,1)\n",
    "y2_DUS = np.array(df_DUS_dNull.delta2).reshape(-1,1)\n",
    "y3_DUS = np.array(df_DUS_dNull.delta3).reshape(-1,1)\n",
    "y_DUS = (y1_DUS,y2_DUS,y3_DUS)"
   ]
  },
  {
   "cell_type": "code",
   "execution_count": 16,
   "metadata": {},
   "outputs": [],
   "source": [
    "X1_KOL = np.array(df_KOL_dNull['discharge_Day-3']).reshape(-1,1)\n",
    "X2_KOL = np.array(df_DUS_dNull['MAVG_Day3']).reshape(-1,1)\n",
    "X3_KOL = np.array(df_KOL_dNull['MAVG_week']).reshape(-1,1)\n",
    "y0_KOL = np.array(df_KOL_dNull.water_level).reshape(-1,1)\n",
    "y1_KOL = np.array(df_KOL_dNull.delta1).reshape(-1,1)\n",
    "y2_KOL = np.array(df_KOL_dNull.delta2).reshape(-1,1)\n",
    "y3_KOL = np.array(df_KOL_dNull.delta3).reshape(-1,1)\n",
    "y_KOL = (y1_KOL,y2_KOL,y3_KOL)"
   ]
  },
  {
   "cell_type": "code",
   "execution_count": 11,
   "metadata": {},
   "outputs": [],
   "source": [
    "def performLR(X,y):\n",
    "    r2_sum = 0\n",
    "    for i in range(10):\n",
    "        X_train, X_test, y_train, y_test = train_test_split(X, y, train_size=0.6, test_size= 0.4)\n",
    "        min_max_scaler = preprocessing.MinMaxScaler()\n",
    "        X_train_scaled = min_max_scaler.fit_transform(X_train)\n",
    "        regressor = LinearRegression()  \n",
    "        regressor.fit(X_train, y_train)\n",
    "        y_pred = regressor.predict(X_test)\n",
    "        r2 = r2_score(y_test, y_pred)\n",
    "        r2_sum += r2\n",
    "    r2_a= r2_sum/10    \n",
    "    return r2_a"
   ]
  },
  {
   "cell_type": "code",
   "execution_count": 10,
   "metadata": {},
   "outputs": [
    {
     "name": "stdout",
     "output_type": "stream",
     "text": [
      "R square of y1 0.07374520501790158\n",
      "R square of y2 0.07957763111210407\n",
      "R square of y3 0.06480463274697773\n",
      "R2_score: 0.07270915629232778\n"
     ]
    }
   ],
   "source": [
    "r2_sum = 0\n",
    "for i in range(3):\n",
    "    r2 = performLR(X1_DUS,y_DUS[i])\n",
    "    r2_sum += r2\n",
    "    print('R square of y'+str(i+1), r2)  \n",
    "print(\"R2_score:\", r2_sum/3)"
   ]
  },
  {
   "cell_type": "code",
   "execution_count": 11,
   "metadata": {
    "scrolled": true
   },
   "outputs": [
    {
     "name": "stdout",
     "output_type": "stream",
     "text": [
      "R square of y1 0.06548303392738485\n",
      "R square of y2 0.08706570216564745\n",
      "R square of y3 0.09438336910043547\n",
      "R2_score: 0.08231070173115591\n"
     ]
    }
   ],
   "source": [
    "r2_sum = 0\n",
    "for i in range(3):\n",
    "    r2 = performLR(X2_DUS,y_DUS[i])\n",
    "    r2_sum += r2\n",
    "    print('R square of y'+str(i+1), r2)  \n",
    "print(\"R2_score:\", r2_sum/3)"
   ]
  },
  {
   "cell_type": "code",
   "execution_count": 12,
   "metadata": {
    "scrolled": true
   },
   "outputs": [
    {
     "name": "stdout",
     "output_type": "stream",
     "text": [
      "R square of y1 0.04483242584761123\n",
      "R square of y2 0.07111508732788083\n",
      "R square of y3 0.08221738394955497\n",
      "R2_score: 0.06605496570834901\n"
     ]
    }
   ],
   "source": [
    "r2_sum = 0\n",
    "for i in range(3):\n",
    "    r2 = performLR(X3_DUS,y_DUS[i])\n",
    "    r2_sum += r2\n",
    "    print('R square of y'+str(i+1), r2)  \n",
    "print(\"R2_score:\", r2_sum/3)"
   ]
  },
  {
   "cell_type": "code",
   "execution_count": 13,
   "metadata": {},
   "outputs": [
    {
     "name": "stdout",
     "output_type": "stream",
     "text": [
      "R2_score: 0.7219801873342928\n"
     ]
    }
   ],
   "source": [
    "X_train, X_test, y_train, y_test = train_test_split(X1_DUS, y0_DUS, train_size=0.6, test_size= 0.4)\n",
    "min_max_scaler = preprocessing.MinMaxScaler()\n",
    "X_train_scaled = min_max_scaler.fit_transform(X_train)\n",
    "regressor = LinearRegression()  \n",
    "regressor.fit(X_train, y_train)\n",
    "y_pred = regressor.predict(X_test)\n",
    "r2 = r2_score(y_test, y_pred)\n",
    "print(\"R2_score:\", r2)"
   ]
  },
  {
   "cell_type": "code",
   "execution_count": 14,
   "metadata": {},
   "outputs": [
    {
     "name": "stdout",
     "output_type": "stream",
     "text": [
      "R2_score: 0.6744162955050694\n"
     ]
    }
   ],
   "source": [
    "X_train, X_test, y_train, y_test = train_test_split(X2_DUS, y0_DUS, train_size=0.6, test_size= 0.4)\n",
    "min_max_scaler = preprocessing.MinMaxScaler()\n",
    "X_train_scaled = min_max_scaler.fit_transform(X_train)\n",
    "regressor = LinearRegression()  \n",
    "regressor.fit(X_train, y_train)\n",
    "y_pred = regressor.predict(X_test)\n",
    "r2 = r2_score(y_test, y_pred)\n",
    "print(\"R2_score:\", r2)"
   ]
  },
  {
   "cell_type": "code",
   "execution_count": 75,
   "metadata": {},
   "outputs": [],
   "source": [
    "def performSVR(X,y):\n",
    "    r2_sum = 0\n",
    "    for i in range(10):\n",
    "        X_train, X_test, y_train, y_test = train_test_split(X, y, train_size=0.6, test_size= 0.4)\n",
    "        clf = SVR(kernel='rbf', C=100, epsilon=0.1,tol = 0.01)\n",
    "    #min_max_scaler = preprocessing.MinMaxScaler()\n",
    "    #X_train_scaled = min_max_scaler.fit_transform(X_train)\n",
    "        clf.fit(X_train, y_train)\n",
    "        y_pred = clf.predict(X_test)\n",
    "        r2 = r2_score(y_test, y_pred)\n",
    "        r2_sum += r2\n",
    "    r2_a= r2_sum/10      \n",
    "    return  r2_a"
   ]
  },
  {
   "cell_type": "code",
   "execution_count": 96,
   "metadata": {},
   "outputs": [
    {
     "name": "stderr",
     "output_type": "stream",
     "text": [
      "C:\\Users\\Marimo\\Anaconda3\\lib\\site-packages\\sklearn\\utils\\validation.py:724: DataConversionWarning: A column-vector y was passed when a 1d array was expected. Please change the shape of y to (n_samples, ), for example using ravel().\n",
      "  y = column_or_1d(y, warn=True)\n",
      "C:\\Users\\Marimo\\Anaconda3\\lib\\site-packages\\sklearn\\svm\\base.py:193: FutureWarning: The default value of gamma will change from 'auto' to 'scale' in version 0.22 to account better for unscaled features. Set gamma explicitly to 'auto' or 'scale' to avoid this warning.\n",
      "  \"avoid this warning.\", FutureWarning)\n",
      "C:\\Users\\Marimo\\Anaconda3\\lib\\site-packages\\sklearn\\utils\\validation.py:724: DataConversionWarning: A column-vector y was passed when a 1d array was expected. Please change the shape of y to (n_samples, ), for example using ravel().\n",
      "  y = column_or_1d(y, warn=True)\n",
      "C:\\Users\\Marimo\\Anaconda3\\lib\\site-packages\\sklearn\\svm\\base.py:193: FutureWarning: The default value of gamma will change from 'auto' to 'scale' in version 0.22 to account better for unscaled features. Set gamma explicitly to 'auto' or 'scale' to avoid this warning.\n",
      "  \"avoid this warning.\", FutureWarning)\n",
      "C:\\Users\\Marimo\\Anaconda3\\lib\\site-packages\\sklearn\\utils\\validation.py:724: DataConversionWarning: A column-vector y was passed when a 1d array was expected. Please change the shape of y to (n_samples, ), for example using ravel().\n",
      "  y = column_or_1d(y, warn=True)\n",
      "C:\\Users\\Marimo\\Anaconda3\\lib\\site-packages\\sklearn\\svm\\base.py:193: FutureWarning: The default value of gamma will change from 'auto' to 'scale' in version 0.22 to account better for unscaled features. Set gamma explicitly to 'auto' or 'scale' to avoid this warning.\n",
      "  \"avoid this warning.\", FutureWarning)\n",
      "C:\\Users\\Marimo\\Anaconda3\\lib\\site-packages\\sklearn\\utils\\validation.py:724: DataConversionWarning: A column-vector y was passed when a 1d array was expected. Please change the shape of y to (n_samples, ), for example using ravel().\n",
      "  y = column_or_1d(y, warn=True)\n",
      "C:\\Users\\Marimo\\Anaconda3\\lib\\site-packages\\sklearn\\svm\\base.py:193: FutureWarning: The default value of gamma will change from 'auto' to 'scale' in version 0.22 to account better for unscaled features. Set gamma explicitly to 'auto' or 'scale' to avoid this warning.\n",
      "  \"avoid this warning.\", FutureWarning)\n",
      "C:\\Users\\Marimo\\Anaconda3\\lib\\site-packages\\sklearn\\utils\\validation.py:724: DataConversionWarning: A column-vector y was passed when a 1d array was expected. Please change the shape of y to (n_samples, ), for example using ravel().\n",
      "  y = column_or_1d(y, warn=True)\n",
      "C:\\Users\\Marimo\\Anaconda3\\lib\\site-packages\\sklearn\\svm\\base.py:193: FutureWarning: The default value of gamma will change from 'auto' to 'scale' in version 0.22 to account better for unscaled features. Set gamma explicitly to 'auto' or 'scale' to avoid this warning.\n",
      "  \"avoid this warning.\", FutureWarning)\n",
      "C:\\Users\\Marimo\\Anaconda3\\lib\\site-packages\\sklearn\\utils\\validation.py:724: DataConversionWarning: A column-vector y was passed when a 1d array was expected. Please change the shape of y to (n_samples, ), for example using ravel().\n",
      "  y = column_or_1d(y, warn=True)\n",
      "C:\\Users\\Marimo\\Anaconda3\\lib\\site-packages\\sklearn\\svm\\base.py:193: FutureWarning: The default value of gamma will change from 'auto' to 'scale' in version 0.22 to account better for unscaled features. Set gamma explicitly to 'auto' or 'scale' to avoid this warning.\n",
      "  \"avoid this warning.\", FutureWarning)\n",
      "C:\\Users\\Marimo\\Anaconda3\\lib\\site-packages\\sklearn\\utils\\validation.py:724: DataConversionWarning: A column-vector y was passed when a 1d array was expected. Please change the shape of y to (n_samples, ), for example using ravel().\n",
      "  y = column_or_1d(y, warn=True)\n",
      "C:\\Users\\Marimo\\Anaconda3\\lib\\site-packages\\sklearn\\svm\\base.py:193: FutureWarning: The default value of gamma will change from 'auto' to 'scale' in version 0.22 to account better for unscaled features. Set gamma explicitly to 'auto' or 'scale' to avoid this warning.\n",
      "  \"avoid this warning.\", FutureWarning)\n",
      "C:\\Users\\Marimo\\Anaconda3\\lib\\site-packages\\sklearn\\utils\\validation.py:724: DataConversionWarning: A column-vector y was passed when a 1d array was expected. Please change the shape of y to (n_samples, ), for example using ravel().\n",
      "  y = column_or_1d(y, warn=True)\n",
      "C:\\Users\\Marimo\\Anaconda3\\lib\\site-packages\\sklearn\\svm\\base.py:193: FutureWarning: The default value of gamma will change from 'auto' to 'scale' in version 0.22 to account better for unscaled features. Set gamma explicitly to 'auto' or 'scale' to avoid this warning.\n",
      "  \"avoid this warning.\", FutureWarning)\n",
      "C:\\Users\\Marimo\\Anaconda3\\lib\\site-packages\\sklearn\\utils\\validation.py:724: DataConversionWarning: A column-vector y was passed when a 1d array was expected. Please change the shape of y to (n_samples, ), for example using ravel().\n",
      "  y = column_or_1d(y, warn=True)\n",
      "C:\\Users\\Marimo\\Anaconda3\\lib\\site-packages\\sklearn\\svm\\base.py:193: FutureWarning: The default value of gamma will change from 'auto' to 'scale' in version 0.22 to account better for unscaled features. Set gamma explicitly to 'auto' or 'scale' to avoid this warning.\n",
      "  \"avoid this warning.\", FutureWarning)\n",
      "C:\\Users\\Marimo\\Anaconda3\\lib\\site-packages\\sklearn\\utils\\validation.py:724: DataConversionWarning: A column-vector y was passed when a 1d array was expected. Please change the shape of y to (n_samples, ), for example using ravel().\n",
      "  y = column_or_1d(y, warn=True)\n",
      "C:\\Users\\Marimo\\Anaconda3\\lib\\site-packages\\sklearn\\svm\\base.py:193: FutureWarning: The default value of gamma will change from 'auto' to 'scale' in version 0.22 to account better for unscaled features. Set gamma explicitly to 'auto' or 'scale' to avoid this warning.\n",
      "  \"avoid this warning.\", FutureWarning)\n",
      "C:\\Users\\Marimo\\Anaconda3\\lib\\site-packages\\sklearn\\utils\\validation.py:724: DataConversionWarning: A column-vector y was passed when a 1d array was expected. Please change the shape of y to (n_samples, ), for example using ravel().\n",
      "  y = column_or_1d(y, warn=True)\n",
      "C:\\Users\\Marimo\\Anaconda3\\lib\\site-packages\\sklearn\\svm\\base.py:193: FutureWarning: The default value of gamma will change from 'auto' to 'scale' in version 0.22 to account better for unscaled features. Set gamma explicitly to 'auto' or 'scale' to avoid this warning.\n",
      "  \"avoid this warning.\", FutureWarning)\n",
      "C:\\Users\\Marimo\\Anaconda3\\lib\\site-packages\\sklearn\\utils\\validation.py:724: DataConversionWarning: A column-vector y was passed when a 1d array was expected. Please change the shape of y to (n_samples, ), for example using ravel().\n",
      "  y = column_or_1d(y, warn=True)\n",
      "C:\\Users\\Marimo\\Anaconda3\\lib\\site-packages\\sklearn\\svm\\base.py:193: FutureWarning: The default value of gamma will change from 'auto' to 'scale' in version 0.22 to account better for unscaled features. Set gamma explicitly to 'auto' or 'scale' to avoid this warning.\n",
      "  \"avoid this warning.\", FutureWarning)\n",
      "C:\\Users\\Marimo\\Anaconda3\\lib\\site-packages\\sklearn\\utils\\validation.py:724: DataConversionWarning: A column-vector y was passed when a 1d array was expected. Please change the shape of y to (n_samples, ), for example using ravel().\n",
      "  y = column_or_1d(y, warn=True)\n",
      "C:\\Users\\Marimo\\Anaconda3\\lib\\site-packages\\sklearn\\svm\\base.py:193: FutureWarning: The default value of gamma will change from 'auto' to 'scale' in version 0.22 to account better for unscaled features. Set gamma explicitly to 'auto' or 'scale' to avoid this warning.\n",
      "  \"avoid this warning.\", FutureWarning)\n",
      "C:\\Users\\Marimo\\Anaconda3\\lib\\site-packages\\sklearn\\utils\\validation.py:724: DataConversionWarning: A column-vector y was passed when a 1d array was expected. Please change the shape of y to (n_samples, ), for example using ravel().\n",
      "  y = column_or_1d(y, warn=True)\n",
      "C:\\Users\\Marimo\\Anaconda3\\lib\\site-packages\\sklearn\\svm\\base.py:193: FutureWarning: The default value of gamma will change from 'auto' to 'scale' in version 0.22 to account better for unscaled features. Set gamma explicitly to 'auto' or 'scale' to avoid this warning.\n",
      "  \"avoid this warning.\", FutureWarning)\n",
      "C:\\Users\\Marimo\\Anaconda3\\lib\\site-packages\\sklearn\\utils\\validation.py:724: DataConversionWarning: A column-vector y was passed when a 1d array was expected. Please change the shape of y to (n_samples, ), for example using ravel().\n",
      "  y = column_or_1d(y, warn=True)\n",
      "C:\\Users\\Marimo\\Anaconda3\\lib\\site-packages\\sklearn\\svm\\base.py:193: FutureWarning: The default value of gamma will change from 'auto' to 'scale' in version 0.22 to account better for unscaled features. Set gamma explicitly to 'auto' or 'scale' to avoid this warning.\n",
      "  \"avoid this warning.\", FutureWarning)\n"
     ]
    },
    {
     "name": "stderr",
     "output_type": "stream",
     "text": [
      "C:\\Users\\Marimo\\Anaconda3\\lib\\site-packages\\sklearn\\utils\\validation.py:724: DataConversionWarning: A column-vector y was passed when a 1d array was expected. Please change the shape of y to (n_samples, ), for example using ravel().\n",
      "  y = column_or_1d(y, warn=True)\n",
      "C:\\Users\\Marimo\\Anaconda3\\lib\\site-packages\\sklearn\\svm\\base.py:193: FutureWarning: The default value of gamma will change from 'auto' to 'scale' in version 0.22 to account better for unscaled features. Set gamma explicitly to 'auto' or 'scale' to avoid this warning.\n",
      "  \"avoid this warning.\", FutureWarning)\n",
      "C:\\Users\\Marimo\\Anaconda3\\lib\\site-packages\\sklearn\\utils\\validation.py:724: DataConversionWarning: A column-vector y was passed when a 1d array was expected. Please change the shape of y to (n_samples, ), for example using ravel().\n",
      "  y = column_or_1d(y, warn=True)\n",
      "C:\\Users\\Marimo\\Anaconda3\\lib\\site-packages\\sklearn\\svm\\base.py:193: FutureWarning: The default value of gamma will change from 'auto' to 'scale' in version 0.22 to account better for unscaled features. Set gamma explicitly to 'auto' or 'scale' to avoid this warning.\n",
      "  \"avoid this warning.\", FutureWarning)\n",
      "C:\\Users\\Marimo\\Anaconda3\\lib\\site-packages\\sklearn\\utils\\validation.py:724: DataConversionWarning: A column-vector y was passed when a 1d array was expected. Please change the shape of y to (n_samples, ), for example using ravel().\n",
      "  y = column_or_1d(y, warn=True)\n",
      "C:\\Users\\Marimo\\Anaconda3\\lib\\site-packages\\sklearn\\svm\\base.py:193: FutureWarning: The default value of gamma will change from 'auto' to 'scale' in version 0.22 to account better for unscaled features. Set gamma explicitly to 'auto' or 'scale' to avoid this warning.\n",
      "  \"avoid this warning.\", FutureWarning)\n",
      "C:\\Users\\Marimo\\Anaconda3\\lib\\site-packages\\sklearn\\utils\\validation.py:724: DataConversionWarning: A column-vector y was passed when a 1d array was expected. Please change the shape of y to (n_samples, ), for example using ravel().\n",
      "  y = column_or_1d(y, warn=True)\n",
      "C:\\Users\\Marimo\\Anaconda3\\lib\\site-packages\\sklearn\\svm\\base.py:193: FutureWarning: The default value of gamma will change from 'auto' to 'scale' in version 0.22 to account better for unscaled features. Set gamma explicitly to 'auto' or 'scale' to avoid this warning.\n",
      "  \"avoid this warning.\", FutureWarning)\n",
      "C:\\Users\\Marimo\\Anaconda3\\lib\\site-packages\\sklearn\\utils\\validation.py:724: DataConversionWarning: A column-vector y was passed when a 1d array was expected. Please change the shape of y to (n_samples, ), for example using ravel().\n",
      "  y = column_or_1d(y, warn=True)\n",
      "C:\\Users\\Marimo\\Anaconda3\\lib\\site-packages\\sklearn\\svm\\base.py:193: FutureWarning: The default value of gamma will change from 'auto' to 'scale' in version 0.22 to account better for unscaled features. Set gamma explicitly to 'auto' or 'scale' to avoid this warning.\n",
      "  \"avoid this warning.\", FutureWarning)\n",
      "C:\\Users\\Marimo\\Anaconda3\\lib\\site-packages\\sklearn\\utils\\validation.py:724: DataConversionWarning: A column-vector y was passed when a 1d array was expected. Please change the shape of y to (n_samples, ), for example using ravel().\n",
      "  y = column_or_1d(y, warn=True)\n",
      "C:\\Users\\Marimo\\Anaconda3\\lib\\site-packages\\sklearn\\svm\\base.py:193: FutureWarning: The default value of gamma will change from 'auto' to 'scale' in version 0.22 to account better for unscaled features. Set gamma explicitly to 'auto' or 'scale' to avoid this warning.\n",
      "  \"avoid this warning.\", FutureWarning)\n",
      "C:\\Users\\Marimo\\Anaconda3\\lib\\site-packages\\sklearn\\utils\\validation.py:724: DataConversionWarning: A column-vector y was passed when a 1d array was expected. Please change the shape of y to (n_samples, ), for example using ravel().\n",
      "  y = column_or_1d(y, warn=True)\n",
      "C:\\Users\\Marimo\\Anaconda3\\lib\\site-packages\\sklearn\\svm\\base.py:193: FutureWarning: The default value of gamma will change from 'auto' to 'scale' in version 0.22 to account better for unscaled features. Set gamma explicitly to 'auto' or 'scale' to avoid this warning.\n",
      "  \"avoid this warning.\", FutureWarning)\n",
      "C:\\Users\\Marimo\\Anaconda3\\lib\\site-packages\\sklearn\\utils\\validation.py:724: DataConversionWarning: A column-vector y was passed when a 1d array was expected. Please change the shape of y to (n_samples, ), for example using ravel().\n",
      "  y = column_or_1d(y, warn=True)\n",
      "C:\\Users\\Marimo\\Anaconda3\\lib\\site-packages\\sklearn\\svm\\base.py:193: FutureWarning: The default value of gamma will change from 'auto' to 'scale' in version 0.22 to account better for unscaled features. Set gamma explicitly to 'auto' or 'scale' to avoid this warning.\n",
      "  \"avoid this warning.\", FutureWarning)\n",
      "C:\\Users\\Marimo\\Anaconda3\\lib\\site-packages\\sklearn\\utils\\validation.py:724: DataConversionWarning: A column-vector y was passed when a 1d array was expected. Please change the shape of y to (n_samples, ), for example using ravel().\n",
      "  y = column_or_1d(y, warn=True)\n",
      "C:\\Users\\Marimo\\Anaconda3\\lib\\site-packages\\sklearn\\svm\\base.py:193: FutureWarning: The default value of gamma will change from 'auto' to 'scale' in version 0.22 to account better for unscaled features. Set gamma explicitly to 'auto' or 'scale' to avoid this warning.\n",
      "  \"avoid this warning.\", FutureWarning)\n",
      "C:\\Users\\Marimo\\Anaconda3\\lib\\site-packages\\sklearn\\utils\\validation.py:724: DataConversionWarning: A column-vector y was passed when a 1d array was expected. Please change the shape of y to (n_samples, ), for example using ravel().\n",
      "  y = column_or_1d(y, warn=True)\n",
      "C:\\Users\\Marimo\\Anaconda3\\lib\\site-packages\\sklearn\\svm\\base.py:193: FutureWarning: The default value of gamma will change from 'auto' to 'scale' in version 0.22 to account better for unscaled features. Set gamma explicitly to 'auto' or 'scale' to avoid this warning.\n",
      "  \"avoid this warning.\", FutureWarning)\n",
      "C:\\Users\\Marimo\\Anaconda3\\lib\\site-packages\\sklearn\\utils\\validation.py:724: DataConversionWarning: A column-vector y was passed when a 1d array was expected. Please change the shape of y to (n_samples, ), for example using ravel().\n",
      "  y = column_or_1d(y, warn=True)\n",
      "C:\\Users\\Marimo\\Anaconda3\\lib\\site-packages\\sklearn\\svm\\base.py:193: FutureWarning: The default value of gamma will change from 'auto' to 'scale' in version 0.22 to account better for unscaled features. Set gamma explicitly to 'auto' or 'scale' to avoid this warning.\n",
      "  \"avoid this warning.\", FutureWarning)\n",
      "C:\\Users\\Marimo\\Anaconda3\\lib\\site-packages\\sklearn\\utils\\validation.py:724: DataConversionWarning: A column-vector y was passed when a 1d array was expected. Please change the shape of y to (n_samples, ), for example using ravel().\n",
      "  y = column_or_1d(y, warn=True)\n",
      "C:\\Users\\Marimo\\Anaconda3\\lib\\site-packages\\sklearn\\svm\\base.py:193: FutureWarning: The default value of gamma will change from 'auto' to 'scale' in version 0.22 to account better for unscaled features. Set gamma explicitly to 'auto' or 'scale' to avoid this warning.\n",
      "  \"avoid this warning.\", FutureWarning)\n",
      "C:\\Users\\Marimo\\Anaconda3\\lib\\site-packages\\sklearn\\utils\\validation.py:724: DataConversionWarning: A column-vector y was passed when a 1d array was expected. Please change the shape of y to (n_samples, ), for example using ravel().\n",
      "  y = column_or_1d(y, warn=True)\n",
      "C:\\Users\\Marimo\\Anaconda3\\lib\\site-packages\\sklearn\\svm\\base.py:193: FutureWarning: The default value of gamma will change from 'auto' to 'scale' in version 0.22 to account better for unscaled features. Set gamma explicitly to 'auto' or 'scale' to avoid this warning.\n",
      "  \"avoid this warning.\", FutureWarning)\n",
      "C:\\Users\\Marimo\\Anaconda3\\lib\\site-packages\\sklearn\\utils\\validation.py:724: DataConversionWarning: A column-vector y was passed when a 1d array was expected. Please change the shape of y to (n_samples, ), for example using ravel().\n",
      "  y = column_or_1d(y, warn=True)\n",
      "C:\\Users\\Marimo\\Anaconda3\\lib\\site-packages\\sklearn\\svm\\base.py:193: FutureWarning: The default value of gamma will change from 'auto' to 'scale' in version 0.22 to account better for unscaled features. Set gamma explicitly to 'auto' or 'scale' to avoid this warning.\n",
      "  \"avoid this warning.\", FutureWarning)\n",
      "C:\\Users\\Marimo\\Anaconda3\\lib\\site-packages\\sklearn\\utils\\validation.py:724: DataConversionWarning: A column-vector y was passed when a 1d array was expected. Please change the shape of y to (n_samples, ), for example using ravel().\n",
      "  y = column_or_1d(y, warn=True)\n",
      "C:\\Users\\Marimo\\Anaconda3\\lib\\site-packages\\sklearn\\svm\\base.py:193: FutureWarning: The default value of gamma will change from 'auto' to 'scale' in version 0.22 to account better for unscaled features. Set gamma explicitly to 'auto' or 'scale' to avoid this warning.\n",
      "  \"avoid this warning.\", FutureWarning)\n"
     ]
    },
    {
     "name": "stdout",
     "output_type": "stream",
     "text": [
      "R2_score: -0.1019076600990091\n"
     ]
    }
   ],
   "source": [
    "r2_sum = 0\n",
    "for i in range(3):\n",
    "    r2 = performSVR(X3_DUS,y_DUS[i])\n",
    "    r2_sum += r2\n",
    "print(\"R2_score:\", r2_sum/3)   "
   ]
  },
  {
   "cell_type": "code",
   "execution_count": 7,
   "metadata": {
    "scrolled": true
   },
   "outputs": [],
   "source": [
    "df_2pred = pd.read_csv('to_predict.csv')\n",
    "df_river = pd.read_csv('river_data_cologne_fixed.csv')\n",
    "df_2pred.date = pd.to_datetime(df_2pred.date, format='%Y-%m-%d')\n",
    "df_river.date = pd.to_datetime(df_river.date, format='%Y-%m-%d')"
   ]
  },
  {
   "cell_type": "code",
   "execution_count": 8,
   "metadata": {},
   "outputs": [],
   "source": [
    "df_2pred['discharge_Day3'] = pd.Series()\n",
    "df_2pred['discharge_MAVG3'] = pd.Series()\n",
    "df_2pred['delta'] = pd.Series()"
   ]
  },
  {
   "cell_type": "code",
   "execution_count": 35,
   "metadata": {},
   "outputs": [],
   "source": [
    "def get_discharge(station_no,date):\n",
    "    date_prev = date - pd.Timedelta(days=3)\n",
    "    discharge_value = df_river[(df_river.date == date_prev)&(df_river.station_no == station_no)].discharge.values\n",
    "    return discharge_value"
   ]
  },
  {
   "cell_type": "code",
   "execution_count": 9,
   "metadata": {},
   "outputs": [],
   "source": [
    "def get_discharge_MAVG(station_no,date):\n",
    "    date_prev = date - pd.Timedelta(days=3)\n",
    "    if station_no == 6335050:\n",
    "        discharge_value = df_DUS[(df_DUS.date == date_prev)&(df_DUS.station_no == station_no)].MAVG_Day3.values\n",
    "    else:\n",
    "        discharge_value = df_KOL[(df_KOL.date == date_prev)&(df_KOL.station_no == station_no)].MAVG_Day3.values\n",
    "    return discharge_value\n"
   ]
  },
  {
   "cell_type": "code",
   "execution_count": 42,
   "metadata": {
    "scrolled": false
   },
   "outputs": [],
   "source": [
    "for i in df_2pred.index:\n",
    "        station_no = df_2pred.loc[i, 'station_no']\n",
    "        date = df_2pred.loc[i, 'date']\n",
    "        df_2pred.loc[i, 'discharge_Day3'] = get_discharge(station_no, date)"
   ]
  },
  {
   "cell_type": "code",
   "execution_count": 17,
   "metadata": {},
   "outputs": [],
   "source": [
    "for i in df_2pred.index:\n",
    "        station_no = df_2pred.loc[i, 'station_no']\n",
    "        date = df_2pred.loc[i, 'date']\n",
    "        df_2pred.loc[i, 'discharge_MAVG3'] = get_discharge_MAVG(station_no, date)"
   ]
  },
  {
   "cell_type": "code",
   "execution_count": 18,
   "metadata": {
    "scrolled": true
   },
   "outputs": [],
   "source": [
    "X_train, X_test, y_train, y_test = train_test_split(X2_DUS, y1_DUS, train_size=0.6, test_size= 0.4)\n",
    "min_max_scaler = preprocessing.MinMaxScaler()\n",
    "X_train_scaled = min_max_scaler.fit_transform(X_train)\n",
    "regressor = LinearRegression()  \n",
    "model1_DUS = regressor.fit(X_train, y_train)\n",
    "#y_pred = regressor.predict(X_test)  "
   ]
  },
  {
   "cell_type": "code",
   "execution_count": 19,
   "metadata": {},
   "outputs": [],
   "source": [
    "X_train, X_test, y_train, y_test = train_test_split(X2_KOL, y1_KOL, train_size=0.6, test_size= 0.4)\n",
    "min_max_scaler = preprocessing.MinMaxScaler()\n",
    "X_train_scaled = min_max_scaler.fit_transform(X_train)\n",
    "regressor = LinearRegression()  \n",
    "model1_KOL = regressor.fit(X_train, y_train)"
   ]
  },
  {
   "cell_type": "code",
   "execution_count": 20,
   "metadata": {},
   "outputs": [],
   "source": [
    "X_train, X_test, y_train, y_test = train_test_split(X2_DUS, y2_DUS, train_size=0.6, test_size= 0.4)\n",
    "min_max_scaler = preprocessing.MinMaxScaler()\n",
    "X_train_scaled = min_max_scaler.fit_transform(X_train)\n",
    "regressor = LinearRegression()  \n",
    "model2_DUS = regressor.fit(X_train, y_train)"
   ]
  },
  {
   "cell_type": "code",
   "execution_count": 21,
   "metadata": {},
   "outputs": [],
   "source": [
    "X_train, X_test, y_train, y_test = train_test_split(X2_KOL, y2_KOL, train_size=0.6, test_size= 0.4)\n",
    "min_max_scaler = preprocessing.MinMaxScaler()\n",
    "X_train_scaled = min_max_scaler.fit_transform(X_train)\n",
    "regressor = LinearRegression()  \n",
    "model2_KOL = regressor.fit(X_train, y_train)"
   ]
  },
  {
   "cell_type": "code",
   "execution_count": 22,
   "metadata": {},
   "outputs": [],
   "source": [
    "X_train, X_test, y_train, y_test = train_test_split(X2_DUS, y3_DUS, train_size=0.6, test_size= 0.4)\n",
    "min_max_scaler = preprocessing.MinMaxScaler()\n",
    "X_train_scaled = min_max_scaler.fit_transform(X_train)\n",
    "regressor = LinearRegression()  \n",
    "model3_DUS = regressor.fit(X_train, y_train)"
   ]
  },
  {
   "cell_type": "code",
   "execution_count": 23,
   "metadata": {},
   "outputs": [],
   "source": [
    "X_train, X_test, y_train, y_test = train_test_split(X2_KOL, y3_KOL, train_size=0.6, test_size= 0.4)\n",
    "min_max_scaler = preprocessing.MinMaxScaler()\n",
    "X_train_scaled = min_max_scaler.fit_transform(X_train)\n",
    "regressor = LinearRegression()  \n",
    "model3_KOL = regressor.fit(X_train, y_train)"
   ]
  },
  {
   "cell_type": "code",
   "execution_count": 38,
   "metadata": {},
   "outputs": [],
   "source": [
    "for i in df_2pred.index:\n",
    "    if i%3 == 0:\n",
    "        if  df_2pred.loc[i, 'station_no'] == 6335050:\n",
    "              df_2pred.loc[i, 'delta'] = model1_DUS.predict(df_2pred.loc[i, 'discharge_MAVG3'].reshape(-1,1))[0] \n",
    "        else: \n",
    "              df_2pred.loc[i, 'delta'] = model1_KOL.predict(df_2pred.loc[i, 'discharge_MAVG3'].reshape(-1,1))[0]  \n",
    "    elif i%3 == 1:  \n",
    "        if  df_2pred.loc[i, 'station_no'] == 6335050:\n",
    "              df_2pred.loc[i, 'delta'] = model2_DUS.predict(df_2pred.loc[i, 'discharge_MAVG3'].reshape(-1,1))[0]  \n",
    "        else: \n",
    "              df_2pred.loc[i, 'delta'] = model2_KOL.predict(df_2pred.loc[i, 'discharge_MAVG3'].reshape(-1,1))[0]  \n",
    "    elif i%3 == 2:\n",
    "        if  df_2pred.loc[i, 'station_no'] == 6335050:\n",
    "              df_2pred.loc[i, 'delta'] = model3_DUS.predict(df_2pred.loc[i, 'discharge_MAVG3'].reshape(-1,1))[0]  \n",
    "        else: \n",
    "              df_2pred.loc[i, 'delta'] = model3_KOL.predict(df_2pred.loc[i, 'discharge_MAVG3'].reshape(-1,1))[0]  \n",
    "    else:\n",
    "        print('sth wrong')"
   ]
  },
  {
   "cell_type": "code",
   "execution_count": 39,
   "metadata": {
    "scrolled": true
   },
   "outputs": [
    {
     "data": {
      "text/html": [
       "<div>\n",
       "<style scoped>\n",
       "    .dataframe tbody tr th:only-of-type {\n",
       "        vertical-align: middle;\n",
       "    }\n",
       "\n",
       "    .dataframe tbody tr th {\n",
       "        vertical-align: top;\n",
       "    }\n",
       "\n",
       "    .dataframe thead th {\n",
       "        text-align: right;\n",
       "    }\n",
       "</style>\n",
       "<table border=\"1\" class=\"dataframe\">\n",
       "  <thead>\n",
       "    <tr style=\"text-align: right;\">\n",
       "      <th></th>\n",
       "      <th>station_no</th>\n",
       "      <th>date</th>\n",
       "      <th>discharge_Day3</th>\n",
       "      <th>discharge_MAVG3</th>\n",
       "      <th>delta</th>\n",
       "    </tr>\n",
       "  </thead>\n",
       "  <tbody>\n",
       "    <tr>\n",
       "      <td>0</td>\n",
       "      <td>6335050</td>\n",
       "      <td>1965-04-17</td>\n",
       "      <td>NaN</td>\n",
       "      <td>2530.000000</td>\n",
       "      <td>1.896835</td>\n",
       "    </tr>\n",
       "    <tr>\n",
       "      <td>1</td>\n",
       "      <td>6335050</td>\n",
       "      <td>1965-04-18</td>\n",
       "      <td>NaN</td>\n",
       "      <td>2453.333333</td>\n",
       "      <td>2.778863</td>\n",
       "    </tr>\n",
       "    <tr>\n",
       "      <td>2</td>\n",
       "      <td>6335050</td>\n",
       "      <td>1965-04-19</td>\n",
       "      <td>NaN</td>\n",
       "      <td>2393.333333</td>\n",
       "      <td>2.697517</td>\n",
       "    </tr>\n",
       "    <tr>\n",
       "      <td>3</td>\n",
       "      <td>6335050</td>\n",
       "      <td>1965-08-01</td>\n",
       "      <td>NaN</td>\n",
       "      <td>3366.666667</td>\n",
       "      <td>7.460646</td>\n",
       "    </tr>\n",
       "    <tr>\n",
       "      <td>4</td>\n",
       "      <td>6335050</td>\n",
       "      <td>1965-08-02</td>\n",
       "      <td>NaN</td>\n",
       "      <td>3186.666667</td>\n",
       "      <td>11.934046</td>\n",
       "    </tr>\n",
       "    <tr>\n",
       "      <td>...</td>\n",
       "      <td>...</td>\n",
       "      <td>...</td>\n",
       "      <td>...</td>\n",
       "      <td>...</td>\n",
       "      <td>...</td>\n",
       "    </tr>\n",
       "    <tr>\n",
       "      <td>985</td>\n",
       "      <td>6335060</td>\n",
       "      <td>2012-08-07</td>\n",
       "      <td>NaN</td>\n",
       "      <td>1622.077333</td>\n",
       "      <td>-8.150047</td>\n",
       "    </tr>\n",
       "    <tr>\n",
       "      <td>986</td>\n",
       "      <td>6335060</td>\n",
       "      <td>2012-08-08</td>\n",
       "      <td>NaN</td>\n",
       "      <td>1569.220000</td>\n",
       "      <td>-12.878688</td>\n",
       "    </tr>\n",
       "    <tr>\n",
       "      <td>987</td>\n",
       "      <td>6335060</td>\n",
       "      <td>2012-11-20</td>\n",
       "      <td>NaN</td>\n",
       "      <td>2597.466000</td>\n",
       "      <td>2.385028</td>\n",
       "    </tr>\n",
       "    <tr>\n",
       "      <td>988</td>\n",
       "      <td>6335060</td>\n",
       "      <td>2012-11-21</td>\n",
       "      <td>NaN</td>\n",
       "      <td>2687.400333</td>\n",
       "      <td>5.919018</td>\n",
       "    </tr>\n",
       "    <tr>\n",
       "      <td>989</td>\n",
       "      <td>6335060</td>\n",
       "      <td>2012-11-22</td>\n",
       "      <td>NaN</td>\n",
       "      <td>2673.000000</td>\n",
       "      <td>7.266594</td>\n",
       "    </tr>\n",
       "  </tbody>\n",
       "</table>\n",
       "<p>990 rows × 5 columns</p>\n",
       "</div>"
      ],
      "text/plain": [
       "     station_no       date  discharge_Day3  discharge_MAVG3      delta\n",
       "0       6335050 1965-04-17             NaN      2530.000000   1.896835\n",
       "1       6335050 1965-04-18             NaN      2453.333333   2.778863\n",
       "2       6335050 1965-04-19             NaN      2393.333333   2.697517\n",
       "3       6335050 1965-08-01             NaN      3366.666667   7.460646\n",
       "4       6335050 1965-08-02             NaN      3186.666667  11.934046\n",
       "..          ...        ...             ...              ...        ...\n",
       "985     6335060 2012-08-07             NaN      1622.077333  -8.150047\n",
       "986     6335060 2012-08-08             NaN      1569.220000 -12.878688\n",
       "987     6335060 2012-11-20             NaN      2597.466000   2.385028\n",
       "988     6335060 2012-11-21             NaN      2687.400333   5.919018\n",
       "989     6335060 2012-11-22             NaN      2673.000000   7.266594\n",
       "\n",
       "[990 rows x 5 columns]"
      ]
     },
     "execution_count": 39,
     "metadata": {},
     "output_type": "execute_result"
    }
   ],
   "source": [
    "df_2pred"
   ]
  },
  {
   "cell_type": "code",
   "execution_count": 40,
   "metadata": {
    "scrolled": true
   },
   "outputs": [
    {
     "data": {
      "text/html": [
       "<div>\n",
       "<style scoped>\n",
       "    .dataframe tbody tr th:only-of-type {\n",
       "        vertical-align: middle;\n",
       "    }\n",
       "\n",
       "    .dataframe tbody tr th {\n",
       "        vertical-align: top;\n",
       "    }\n",
       "\n",
       "    .dataframe thead th {\n",
       "        text-align: right;\n",
       "    }\n",
       "</style>\n",
       "<table border=\"1\" class=\"dataframe\">\n",
       "  <thead>\n",
       "    <tr style=\"text-align: right;\">\n",
       "      <th></th>\n",
       "      <th>station_no</th>\n",
       "      <th>date</th>\n",
       "      <th>discharge_Day3</th>\n",
       "      <th>discharge_MAVG3</th>\n",
       "      <th>delta</th>\n",
       "    </tr>\n",
       "  </thead>\n",
       "  <tbody>\n",
       "    <tr>\n",
       "      <td>0</td>\n",
       "      <td>6335050</td>\n",
       "      <td>1965-04-17</td>\n",
       "      <td>NaN</td>\n",
       "      <td>2530.000000</td>\n",
       "      <td>1.896835</td>\n",
       "    </tr>\n",
       "    <tr>\n",
       "      <td>1</td>\n",
       "      <td>6335050</td>\n",
       "      <td>1965-04-18</td>\n",
       "      <td>NaN</td>\n",
       "      <td>2453.333333</td>\n",
       "      <td>2.778863</td>\n",
       "    </tr>\n",
       "    <tr>\n",
       "      <td>2</td>\n",
       "      <td>6335050</td>\n",
       "      <td>1965-04-19</td>\n",
       "      <td>NaN</td>\n",
       "      <td>2393.333333</td>\n",
       "      <td>2.697517</td>\n",
       "    </tr>\n",
       "    <tr>\n",
       "      <td>3</td>\n",
       "      <td>6335050</td>\n",
       "      <td>1965-08-01</td>\n",
       "      <td>NaN</td>\n",
       "      <td>3366.666667</td>\n",
       "      <td>7.460646</td>\n",
       "    </tr>\n",
       "    <tr>\n",
       "      <td>4</td>\n",
       "      <td>6335050</td>\n",
       "      <td>1965-08-02</td>\n",
       "      <td>NaN</td>\n",
       "      <td>3186.666667</td>\n",
       "      <td>11.934046</td>\n",
       "    </tr>\n",
       "    <tr>\n",
       "      <td>...</td>\n",
       "      <td>...</td>\n",
       "      <td>...</td>\n",
       "      <td>...</td>\n",
       "      <td>...</td>\n",
       "      <td>...</td>\n",
       "    </tr>\n",
       "    <tr>\n",
       "      <td>985</td>\n",
       "      <td>6335060</td>\n",
       "      <td>2012-08-07</td>\n",
       "      <td>NaN</td>\n",
       "      <td>1622.077333</td>\n",
       "      <td>-8.150047</td>\n",
       "    </tr>\n",
       "    <tr>\n",
       "      <td>986</td>\n",
       "      <td>6335060</td>\n",
       "      <td>2012-08-08</td>\n",
       "      <td>NaN</td>\n",
       "      <td>1569.220000</td>\n",
       "      <td>-12.878688</td>\n",
       "    </tr>\n",
       "    <tr>\n",
       "      <td>987</td>\n",
       "      <td>6335060</td>\n",
       "      <td>2012-11-20</td>\n",
       "      <td>NaN</td>\n",
       "      <td>2597.466000</td>\n",
       "      <td>2.385028</td>\n",
       "    </tr>\n",
       "    <tr>\n",
       "      <td>988</td>\n",
       "      <td>6335060</td>\n",
       "      <td>2012-11-21</td>\n",
       "      <td>NaN</td>\n",
       "      <td>2687.400333</td>\n",
       "      <td>5.919018</td>\n",
       "    </tr>\n",
       "    <tr>\n",
       "      <td>989</td>\n",
       "      <td>6335060</td>\n",
       "      <td>2012-11-22</td>\n",
       "      <td>NaN</td>\n",
       "      <td>2673.000000</td>\n",
       "      <td>7.266594</td>\n",
       "    </tr>\n",
       "  </tbody>\n",
       "</table>\n",
       "<p>990 rows × 5 columns</p>\n",
       "</div>"
      ],
      "text/plain": [
       "     station_no       date  discharge_Day3  discharge_MAVG3      delta\n",
       "0       6335050 1965-04-17             NaN      2530.000000   1.896835\n",
       "1       6335050 1965-04-18             NaN      2453.333333   2.778863\n",
       "2       6335050 1965-04-19             NaN      2393.333333   2.697517\n",
       "3       6335050 1965-08-01             NaN      3366.666667   7.460646\n",
       "4       6335050 1965-08-02             NaN      3186.666667  11.934046\n",
       "..          ...        ...             ...              ...        ...\n",
       "985     6335060 2012-08-07             NaN      1622.077333  -8.150047\n",
       "986     6335060 2012-08-08             NaN      1569.220000 -12.878688\n",
       "987     6335060 2012-11-20             NaN      2597.466000   2.385028\n",
       "988     6335060 2012-11-21             NaN      2687.400333   5.919018\n",
       "989     6335060 2012-11-22             NaN      2673.000000   7.266594\n",
       "\n",
       "[990 rows x 5 columns]"
      ]
     },
     "execution_count": 40,
     "metadata": {},
     "output_type": "execute_result"
    }
   ],
   "source": [
    "df_2pred"
   ]
  },
  {
   "cell_type": "code",
   "execution_count": 41,
   "metadata": {},
   "outputs": [],
   "source": [
    "df_final1 = df_2pred[['station_no','date','delta']]"
   ]
  },
  {
   "cell_type": "code",
   "execution_count": 47,
   "metadata": {},
   "outputs": [
    {
     "data": {
      "text/plain": [
       "0.07356158267890266"
      ]
     },
     "execution_count": 47,
     "metadata": {},
     "output_type": "execute_result"
    }
   ],
   "source": [
    "df_2pred.delta.mean()"
   ]
  },
  {
   "cell_type": "code",
   "execution_count": 46,
   "metadata": {
    "scrolled": true
   },
   "outputs": [],
   "source": [
    " df_final1.to_csv('final1.csv', index = False)"
   ]
  },
  {
   "cell_type": "code",
   "execution_count": 143,
   "metadata": {},
   "outputs": [],
   "source": [
    "def get_discharge_DUS(date):\n",
    "    date_prev = date - pd.Timedelta(days=3)\n",
    "    discharge = df_DUS[df_DUS.date == date_prev]['discharge']\n",
    "    return discharge\n",
    "    \n",
    "def get_discharge_KOL(date):\n",
    "    date_prev = date - pd.Timedelta(days=3)\n",
    "    discharge = df_KOL[df_KOL.date == date_prev]['discharge']\n",
    "    return discharge"
   ]
  },
  {
   "cell_type": "code",
   "execution_count": null,
   "metadata": {
    "scrolled": true
   },
   "outputs": [],
   "source": [
    "for (i, row) in df_2pred.iterrows():\n",
    "    \n",
    "    if row['station_no'] == 6335050:\n",
    "        row['discharge_Day3']= get_discharge_DUS(row['date'])\n",
    "        print(get_discharge_DUS(row['date']))\n",
    "    elif row['station_no'] == 6335060:\n",
    "        row['discharge_Day3']= get_discharge_KOL(row['date'])\n",
    "        print(get_discharge_DUS(row['date']))\n",
    "    else:\n",
    "        print('sth wrong')  \n",
    "    "
   ]
  }
 ],
 "metadata": {
  "kernelspec": {
   "display_name": "Python 3",
   "language": "python",
   "name": "python3"
  },
  "language_info": {
   "codemirror_mode": {
    "name": "ipython",
    "version": 3
   },
   "file_extension": ".py",
   "mimetype": "text/x-python",
   "name": "python",
   "nbconvert_exporter": "python",
   "pygments_lexer": "ipython3",
   "version": "3.7.4"
  }
 },
 "nbformat": 4,
 "nbformat_minor": 2
}
