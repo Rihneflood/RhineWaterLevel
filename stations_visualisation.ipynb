{
 "cells": [
  {
   "cell_type": "code",
   "execution_count": 5,
   "outputs": [],
   "source": [
    "import pandas as pd\n",
    "import matplotlib.pyplot as plt"
   ],
   "metadata": {
    "collapsed": false,
    "pycharm": {
     "name": "#%%\n",
     "is_executing": false
    }
   }
  },
  {
   "cell_type": "code",
   "execution_count": 24,
   "metadata": {
    "collapsed": true,
    "pycharm": {
     "is_executing": false
    }
   },
   "outputs": [
    {
     "name": "stdout",
     "text": [
      "    Unnamed: 0  GRDC-No.       River  Station Country  Latitude(DD)  \\\n13          13   6335045        SIEG  MENDEN1      DE     50.797901   \n16          16   6335060  RHINERIVER    KOELN      DE     50.936961   \n\n    Longitude(DD)  Catchmentarea(km²)  Altitude(mASL)  Nextdownstreamstation  \n13       7.159168              2832.0           52.03                6335050  \n16       6.963293            144232.0           34.97                6335050  \n    Unnamed: 0  GRDC-No.       River      Station Country  Latitude(DD)  \\\n15          15   6335050  RHINERIVER  DUESSELDORF      DE     51.225547   \n\n    Longitude(DD)  Catchmentarea(km²)  Altitude(mASL)  Nextdownstreamstation  \n15       6.770183            147680.0           24.48                6335020  \n\n    GRDC-No.\n13   6335045\n16   6335060\n    Nextdownstreamstation\n15                6335020\n"
     ],
     "output_type": "stream"
    }
   ],
   "source": [
    "stations_df = pd.read_csv('river_stations.csv')\n",
    "stations_df.Nextdownstreamstation = stations_df.Nextdownstreamstation.replace('-', -1)\n",
    "stations_df.Nextdownstreamstation = stations_df.Nextdownstreamstation.astype(int)\n",
    "# print(stations_df.info())\n",
    "\n",
    "# plt.scatter(x = stations_df['Latitude(DD)'], y=stations_df['Longitude(DD)'])\n",
    "\n",
    "upstream = stations_df[stations_df.Nextdownstreamstation == 6335050]\n",
    "print(upstream)\n",
    "\n",
    "downstream = stations_df[stations_df['GRDC-No.'] == 6335050]\n",
    "print(downstream)\n",
    "\n",
    "print()\n",
    "\n",
    "print(f\"{upstream[['GRDC-No.']]}\\n{downstream[['Nextdownstreamstation']]}\")\n"
   ]
  }
 ],
 "metadata": {
  "kernelspec": {
   "display_name": "Python 3",
   "language": "python",
   "name": "python3"
  },
  "language_info": {
   "codemirror_mode": {
    "name": "ipython",
    "version": 2
   },
   "file_extension": ".py",
   "mimetype": "text/x-python",
   "name": "python",
   "nbconvert_exporter": "python",
   "pygments_lexer": "ipython2",
   "version": "2.7.6"
  },
  "pycharm": {
   "stem_cell": {
    "cell_type": "raw",
    "source": [],
    "metadata": {
     "collapsed": false
    }
   }
  }
 },
 "nbformat": 4,
 "nbformat_minor": 0
}