{
 "cells": [
  {
   "cell_type": "code",
   "execution_count": 1,
   "metadata": {},
   "outputs": [],
   "source": [
    "import os\n",
    "from datetime import datetime\n",
    "import pandas as pd\n",
    "import numpy as np\n",
    "import matplotlib.pyplot as plt\n",
    "\n",
    "import seaborn as sns\n",
    "from statsmodels.graphics.tsaplots import plot_acf"
   ]
  },
  {
   "cell_type": "code",
   "execution_count": 2,
   "metadata": {
    "scrolled": true
   },
   "outputs": [
    {
     "name": "stdout",
     "output_type": "stream",
     "text": [
      "<class 'pandas.core.frame.DataFrame'>\n",
      "RangeIndex: 923304 entries, 0 to 923303\n",
      "Data columns (total 6 columns):\n",
      "date           923304 non-null object\n",
      "station_no     923304 non-null int64\n",
      "discharge      908278 non-null float64\n",
      "water_level    401993 non-null float64\n",
      "year           923304 non-null int64\n",
      "month          923304 non-null int64\n",
      "dtypes: float64(2), int64(3), object(1)\n",
      "memory usage: 42.3+ MB\n",
      "None\n",
      "         station_no      discharge    water_level           year  \\\n",
      "count  9.233040e+05  908278.000000  401993.000000  923304.000000   \n",
      "mean   6.482084e+06     439.843713     182.805785    1988.482004   \n",
      "std    2.563108e+05     809.182106     140.825050      13.858634   \n",
      "min    6.335020e+06       0.160000       0.000000    1965.000000   \n",
      "25%    6.335116e+06      11.361000      73.127000    1976.000000   \n",
      "50%    6.335430e+06      61.594000     146.066000    1988.000000   \n",
      "75%    6.435060e+06     454.000000     250.000000    2000.000000   \n",
      "max    6.935540e+06   11885.000000    1064.000000    2012.000000   \n",
      "\n",
      "               month  \n",
      "count  923304.000000  \n",
      "mean        6.518265  \n",
      "std         3.450021  \n",
      "min         1.000000  \n",
      "25%         4.000000  \n",
      "50%         7.000000  \n",
      "75%        10.000000  \n",
      "max        12.000000  \n"
     ]
    }
   ],
   "source": [
    "river_pd = pd.read_csv('river_data_cologne_fixed.csv')\n",
    "\n",
    "print(river_pd.info())\n",
    "print(river_pd.describe())"
   ]
  },
  {
   "cell_type": "code",
   "execution_count": 3,
   "metadata": {},
   "outputs": [],
   "source": [
    "river_pd.date = pd.to_datetime(river_pd.date, format='%Y-%m-%d')\n",
    "river_pd = river_pd.set_index('date')\n",
    "river_pd = river_pd.replace(-999.0, np.NaN)\n",
    "\n",
    "river_pd['year'] = river_pd.index.to_series().dt.year\n",
    "river_pd['month'] = river_pd.index.to_series().dt.month\n"
   ]
  },
  {
   "cell_type": "code",
   "execution_count": 4,
   "metadata": {},
   "outputs": [
    {
     "name": "stdout",
     "output_type": "stream",
     "text": [
      "{6935300, 6335621, 6935301, 6935302, 6335240, 6335115, 6335116, 6335500, 6935051, 6935053, 6935054, 6935055, 6935060, 6335125, 6335640, 6935460, 6335400, 6335020, 6335150, 6335410, 6336050, 6335030, 6335031, 6335032, 6335800, 6335170, 6335045, 6335301, 6335302, 6335304, 6335050, 6335180, 6935500, 6335310, 6335060, 6335190, 6335450, 6335070, 6335710, 6335200, 6335076, 6335460, 6335080, 6335081, 6335082, 6335083, 6935020, 6935145, 6935400, 6935401, 6335600, 6335601, 6335602, 6335603, 6335604, 6335730, 6335350, 6335351, 6336500, 6435060, 6935540, 6335100}\n"
     ]
    },
    {
     "name": "stderr",
     "output_type": "stream",
     "text": [
      "/Users/recepcanadiguzel/opt/anaconda3/lib/python3.7/site-packages/ipykernel_launcher.py:10: SettingWithCopyWarning: \n",
      "A value is trying to be set on a copy of a slice from a DataFrame.\n",
      "Try using .loc[row_indexer,col_indexer] = value instead\n",
      "\n",
      "See the caveats in the documentation: http://pandas.pydata.org/pandas-docs/stable/user_guide/indexing.html#returning-a-view-versus-a-copy\n",
      "  # Remove the CWD from sys.path while we load stuff.\n",
      "/Users/recepcanadiguzel/opt/anaconda3/lib/python3.7/site-packages/ipykernel_launcher.py:11: SettingWithCopyWarning: \n",
      "A value is trying to be set on a copy of a slice from a DataFrame.\n",
      "Try using .loc[row_indexer,col_indexer] = value instead\n",
      "\n",
      "See the caveats in the documentation: http://pandas.pydata.org/pandas-docs/stable/user_guide/indexing.html#returning-a-view-versus-a-copy\n",
      "  # This is added back by InteractiveShellApp.init_path()\n",
      "/Users/recepcanadiguzel/opt/anaconda3/lib/python3.7/site-packages/ipykernel_launcher.py:12: SettingWithCopyWarning: \n",
      "A value is trying to be set on a copy of a slice from a DataFrame.\n",
      "Try using .loc[row_indexer,col_indexer] = value instead\n",
      "\n",
      "See the caveats in the documentation: http://pandas.pydata.org/pandas-docs/stable/user_guide/indexing.html#returning-a-view-versus-a-copy\n",
      "  if sys.path[0] == '':\n"
     ]
    }
   ],
   "source": [
    "\n",
    "stations = set(river_pd.station_no.tolist())\n",
    "print(stations)\n",
    "\n",
    "if not os.path.exists('./stations'):\n",
    "    os.makedirs('./stations')\n",
    "\n",
    "for s in stations:\n",
    "    station_pd = river_pd[river_pd.station_no == s]\n",
    "    # station_pd = station_pd.drop('station_no', 1)\n",
    "    station_pd['delta1'] = station_pd.water_level.shift(1) - station_pd.water_level\n",
    "    station_pd['delta2'] = station_pd.water_level.shift(2) - station_pd.water_level\n",
    "    station_pd['delta3'] = station_pd.water_level.shift(3) - station_pd.water_level\n",
    "    #station_pd['delta4'] = station_pd.water_level.shift(4) - station_pd.water_level\n",
    "    #station_pd['delta5'] = station_pd.water_level.shift(5) - station_pd.water_level\n",
    "    #station_pd['delta6'] = station_pd.water_level.shift(6) - station_pd.water_level\n",
    "    station_pd.to_csv(f'./stations/station_{s}_river_data.csv')"
   ]
  },
  {
   "cell_type": "code",
   "execution_count": null,
   "metadata": {},
   "outputs": [],
   "source": []
  },
  {
   "cell_type": "code",
   "execution_count": null,
   "metadata": {},
   "outputs": [],
   "source": []
  }
 ],
 "metadata": {
  "kernelspec": {
   "display_name": "Python 3",
   "language": "python",
   "name": "python3"
  },
  "language_info": {
   "codemirror_mode": {
    "name": "ipython",
    "version": 3
   },
   "file_extension": ".py",
   "mimetype": "text/x-python",
   "name": "python",
   "nbconvert_exporter": "python",
   "pygments_lexer": "ipython3",
   "version": "3.7.4"
  }
 },
 "nbformat": 4,
 "nbformat_minor": 2
}
