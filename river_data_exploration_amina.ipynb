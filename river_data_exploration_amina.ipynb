{
 "cells": [
  {
   "cell_type": "code",
   "execution_count": 13,
   "outputs": [],
   "source": [
    "import os\n",
    "from datetime import datetime\n",
    "import pandas as pd\n",
    "import numpy as np\n",
    "import matplotlib.pyplot as plt\n",
    "\n",
    "import seaborn as sns\n",
    "from statsmodels.graphics.tsaplots import plot_acf\n",
    "\n",
    "#Just some frameworks to checkout:\n",
    "# from fbprophet import Prophet\n",
    "\n",
    "# from gluonts.model.deepar import DeepAREstimator\n",
    "# from gluonts.trainer import Trainer"
   ],
   "metadata": {
    "collapsed": false,
    "pycharm": {
     "name": "#%%\n",
     "is_executing": false
    }
   }
  },
  {
   "cell_type": "code",
   "execution_count": 16,
   "metadata": {
    "collapsed": true,
    "pycharm": {
     "is_executing": false
    }
   },
   "outputs": [
    {
     "name": "stdout",
     "text": [
      "<class 'pandas.core.frame.DataFrame'>\nRangeIndex: 923304 entries, 0 to 923303\nData columns (total 4 columns):\nstation_no     923304 non-null int64\ndate           923304 non-null object\ndischarge      923304 non-null float64\nwater_level    923304 non-null float64\ndtypes: float64(2), int64(1), object(1)\nmemory usage: 28.2+ MB\nNone\n         station_no      discharge    water_level\ncount  9.233040e+05  923304.000000  923304.000000\nmean   6.482084e+06     416.427735    -484.957980\nstd    2.563108e+05     822.960147     592.618697\nmin    6.335020e+06    -999.000000    -999.000000\n25%    6.335116e+06      10.530000    -999.000000\n50%    6.335430e+06      58.292500    -999.000000\n75%    6.435060e+06     433.239000     122.283250\nmax    6.935540e+06   11885.000000    1064.000000\n"
     ],
     "output_type": "stream"
    }
   ],
   "source": [
    "river_pd = pd.read_csv('river_data.csv')\n",
    "\n",
    "print(river_pd.info())\n",
    "print(river_pd.describe())\n"
   ]
  },
  {
   "cell_type": "code",
   "execution_count": 19,
   "outputs": [
    {
     "traceback": [
      "\u001b[0;31m---------------------------------------------------------------------------\u001b[0m",
      "\u001b[0;31mAttributeError\u001b[0m                            Traceback (most recent call last)",
      "\u001b[0;32m<ipython-input-19-51f0d728f21f>\u001b[0m in \u001b[0;36m<module>\u001b[0;34m\u001b[0m\n\u001b[1;32m      1\u001b[0m \u001b[0;34m\u001b[0m\u001b[0m\n\u001b[0;32m----> 2\u001b[0;31m \u001b[0mriver_pd\u001b[0m\u001b[0;34m.\u001b[0m\u001b[0mdate\u001b[0m \u001b[0;34m=\u001b[0m \u001b[0mpd\u001b[0m\u001b[0;34m.\u001b[0m\u001b[0mto_datetime\u001b[0m\u001b[0;34m(\u001b[0m\u001b[0mriver_pd\u001b[0m\u001b[0;34m.\u001b[0m\u001b[0mdate\u001b[0m\u001b[0;34m,\u001b[0m \u001b[0mformat\u001b[0m\u001b[0;34m=\u001b[0m\u001b[0;34m'%Y-%m-%d'\u001b[0m\u001b[0;34m)\u001b[0m\u001b[0;34m\u001b[0m\u001b[0;34m\u001b[0m\u001b[0m\n\u001b[0m\u001b[1;32m      3\u001b[0m \u001b[0mriver_pd\u001b[0m \u001b[0;34m=\u001b[0m \u001b[0mriver_pd\u001b[0m\u001b[0;34m.\u001b[0m\u001b[0mset_index\u001b[0m\u001b[0;34m(\u001b[0m\u001b[0;34m'date'\u001b[0m\u001b[0;34m)\u001b[0m\u001b[0;34m\u001b[0m\u001b[0;34m\u001b[0m\u001b[0m\n\u001b[1;32m      4\u001b[0m \u001b[0mriver_pd\u001b[0m \u001b[0;34m=\u001b[0m \u001b[0mriver_pd\u001b[0m\u001b[0;34m.\u001b[0m\u001b[0mreplace\u001b[0m\u001b[0;34m(\u001b[0m\u001b[0;34m-\u001b[0m\u001b[0;36m999.0\u001b[0m\u001b[0;34m,\u001b[0m \u001b[0mnp\u001b[0m\u001b[0;34m.\u001b[0m\u001b[0mNaN\u001b[0m\u001b[0;34m)\u001b[0m\u001b[0;34m\u001b[0m\u001b[0;34m\u001b[0m\u001b[0m\n\u001b[1;32m      5\u001b[0m \u001b[0;34m\u001b[0m\u001b[0m\n",
      "\u001b[0;32m/usr/lib/python3.7/site-packages/pandas/core/generic.py\u001b[0m in \u001b[0;36m__getattr__\u001b[0;34m(self, name)\u001b[0m\n\u001b[1;32m   5065\u001b[0m             \u001b[0;32mif\u001b[0m \u001b[0mself\u001b[0m\u001b[0;34m.\u001b[0m\u001b[0m_info_axis\u001b[0m\u001b[0;34m.\u001b[0m\u001b[0m_can_hold_identifiers_and_holds_name\u001b[0m\u001b[0;34m(\u001b[0m\u001b[0mname\u001b[0m\u001b[0;34m)\u001b[0m\u001b[0;34m:\u001b[0m\u001b[0;34m\u001b[0m\u001b[0;34m\u001b[0m\u001b[0m\n\u001b[1;32m   5066\u001b[0m                 \u001b[0;32mreturn\u001b[0m \u001b[0mself\u001b[0m\u001b[0;34m[\u001b[0m\u001b[0mname\u001b[0m\u001b[0;34m]\u001b[0m\u001b[0;34m\u001b[0m\u001b[0;34m\u001b[0m\u001b[0m\n\u001b[0;32m-> 5067\u001b[0;31m             \u001b[0;32mreturn\u001b[0m \u001b[0mobject\u001b[0m\u001b[0;34m.\u001b[0m\u001b[0m__getattribute__\u001b[0m\u001b[0;34m(\u001b[0m\u001b[0mself\u001b[0m\u001b[0;34m,\u001b[0m \u001b[0mname\u001b[0m\u001b[0;34m)\u001b[0m\u001b[0;34m\u001b[0m\u001b[0;34m\u001b[0m\u001b[0m\n\u001b[0m\u001b[1;32m   5068\u001b[0m \u001b[0;34m\u001b[0m\u001b[0m\n\u001b[1;32m   5069\u001b[0m     \u001b[0;32mdef\u001b[0m \u001b[0m__setattr__\u001b[0m\u001b[0;34m(\u001b[0m\u001b[0mself\u001b[0m\u001b[0;34m,\u001b[0m \u001b[0mname\u001b[0m\u001b[0;34m,\u001b[0m \u001b[0mvalue\u001b[0m\u001b[0;34m)\u001b[0m\u001b[0;34m:\u001b[0m\u001b[0;34m\u001b[0m\u001b[0;34m\u001b[0m\u001b[0m\n",
      "\u001b[0;31mAttributeError\u001b[0m: 'DataFrame' object has no attribute 'date'"
     ],
     "ename": "AttributeError",
     "evalue": "'DataFrame' object has no attribute 'date'",
     "output_type": "error"
    }
   ],
   "source": [
    "river_pd.date = pd.to_datetime(river_pd.date, format='%Y-%m-%d')\n",
    "river_pd = river_pd.set_index('date')\n",
    "river_pd = river_pd.replace(-999.0, np.NaN)\n",
    "\n",
    "river_pd['year'] = river_pd.index.to_series().dt.year\n",
    "river_pd['month'] = river_pd.index.to_series().dt.month"
   ],
   "metadata": {
    "collapsed": false,
    "pycharm": {
     "name": "#%%\n",
     "is_executing": false
    }
   }
  },
  {
   "cell_type": "code",
   "execution_count": 20,
   "outputs": [
    {
     "name": "stdout",
     "text": [
      "{6935300, 6335621, 6935301, 6935302, 6335240, 6335115, 6335116, 6335500, 6935051, 6935053, 6935054, 6935055, 6935060, 6335125, 6335640, 6935460, 6335400, 6335020, 6335150, 6335410, 6336050, 6335030, 6335031, 6335032, 6335800, 6335170, 6335045, 6335301, 6335302, 6335304, 6335050, 6335180, 6935500, 6335310, 6335060, 6335190, 6335450, 6335070, 6335710, 6335200, 6335076, 6335460, 6335080, 6335081, 6335082, 6335083, 6935020, 6935145, 6935400, 6935401, 6335600, 6335601, 6335602, 6335603, 6335604, 6335730, 6335350, 6335351, 6336500, 6435060, 6935540, 6335100}\n"
     ],
     "output_type": "stream"
    },
    {
     "name": "stderr",
     "text": [
      "/usr/lib/python3.7/site-packages/ipykernel_launcher.py:10: SettingWithCopyWarning: \nA value is trying to be set on a copy of a slice from a DataFrame.\nTry using .loc[row_indexer,col_indexer] = value instead\n\nSee the caveats in the documentation: http://pandas.pydata.org/pandas-docs/stable/indexing.html#indexing-view-versus-copy\n  # Remove the CWD from sys.path while we load stuff.\n/usr/lib/python3.7/site-packages/ipykernel_launcher.py:11: SettingWithCopyWarning: \nA value is trying to be set on a copy of a slice from a DataFrame.\nTry using .loc[row_indexer,col_indexer] = value instead\n\nSee the caveats in the documentation: http://pandas.pydata.org/pandas-docs/stable/indexing.html#indexing-view-versus-copy\n  # This is added back by InteractiveShellApp.init_path()\n/usr/lib/python3.7/site-packages/ipykernel_launcher.py:12: SettingWithCopyWarning: \nA value is trying to be set on a copy of a slice from a DataFrame.\nTry using .loc[row_indexer,col_indexer] = value instead\n\nSee the caveats in the documentation: http://pandas.pydata.org/pandas-docs/stable/indexing.html#indexing-view-versus-copy\n  if sys.path[0] == '':\n"
     ],
     "output_type": "stream"
    }
   ],
   "source": [
    "stations = set(river_pd.station_no.tolist())\n",
    "print(stations)\n",
    "\n",
    "if not os.path.exists('./stations'):\n",
    "    os.makedirs('./stations')\n",
    "\n",
    "for s in stations:\n",
    "    station_pd = river_pd[river_pd.station_no == s]\n",
    "    # station_pd = station_pd.drop('station_no', 1)\n",
    "    station_pd['delta1'] = station_pd.water_level.shift(1) - station_pd.water_level\n",
    "    station_pd['delta2'] = station_pd.water_level.shift(2) - station_pd.water_level\n",
    "    station_pd['delta3'] = station_pd.water_level.shift(3) - station_pd.water_level\n",
    "    station_pd.to_csv(f'./stations/station_{s}_river_data.csv')"
   ],
   "metadata": {
    "collapsed": false,
    "pycharm": {
     "name": "#%%\n",
     "is_executing": false
    }
   }
  }
 ],
 "metadata": {
  "kernelspec": {
   "display_name": "Python 3",
   "language": "python",
   "name": "python3"
  },
  "language_info": {
   "codemirror_mode": {
    "name": "ipython",
    "version": 2
   },
   "file_extension": ".py",
   "mimetype": "text/x-python",
   "name": "python",
   "nbconvert_exporter": "python",
   "pygments_lexer": "ipython2",
   "version": "2.7.6"
  },
  "pycharm": {
   "stem_cell": {
    "cell_type": "raw",
    "source": [],
    "metadata": {
     "collapsed": false
    }
   }
  }
 },
 "nbformat": 4,
 "nbformat_minor": 0
}