{
 "cells": [
  {
   "cell_type": "code",
   "execution_count": 4,
   "outputs": [],
   "source": [
    "from datetime import datetime\n",
    "import pandas as pd\n",
    "import numpy as np\n",
    "import matplotlib.pyplot as plt\n",
    "\n",
    "\n",
    "#Just some frameworks to checkout:\n",
    "# from fbprophet import Prophet\n",
    "\n",
    "# from gluonts.model.deepar import DeepAREstimator\n",
    "# from gluonts.trainer import Trainer"
   ],
   "metadata": {
    "collapsed": false,
    "pycharm": {
     "name": "#%%\n",
     "is_executing": false
    }
   }
  },
  {
   "cell_type": "code",
   "execution_count": 5,
   "metadata": {
    "collapsed": true,
    "pycharm": {
     "is_executing": false
    }
   },
   "outputs": [
    {
     "name": "stdout",
     "text": [
      "<class 'pandas.core.frame.DataFrame'>\nRangeIndex: 923304 entries, 0 to 923303\nData columns (total 4 columns):\nstation_no     923304 non-null int64\ndate           923304 non-null object\ndischarge      923304 non-null float64\nwater_level    923304 non-null float64\ndtypes: float64(2), int64(1), object(1)\nmemory usage: 28.2+ MB\nNone\n         station_no      discharge    water_level\ncount  9.233040e+05  923304.000000  923304.000000\nmean   6.482084e+06     416.427735    -484.957980\nstd    2.563108e+05     822.960147     592.618697\nmin    6.335020e+06    -999.000000    -999.000000\n25%    6.335116e+06      10.530000    -999.000000\n50%    6.335430e+06      58.292500    -999.000000\n75%    6.435060e+06     433.239000     122.283250\nmax    6.935540e+06   11885.000000    1064.000000\n"
     ],
     "output_type": "stream"
    }
   ],
   "source": [
    "river_pd = pd.read_csv('river_data.csv')\n",
    "\n",
    "print(river_pd.info())\n",
    "print(river_pd.describe())\n"
   ]
  },
  {
   "cell_type": "code",
   "execution_count": 6,
   "outputs": [],
   "source": [
    "river_pd.date = pd.to_datetime(river_pd.date, format='%Y-%m-%d')\n",
    "river_pd = river_pd.set_index('date')"
   ],
   "metadata": {
    "collapsed": false,
    "pycharm": {
     "name": "#%%\n",
     "is_executing": false
    }
   }
  },
  {
   "cell_type": "code",
   "execution_count": 7,
   "outputs": [
    {
     "data": {
      "text/plain": "<matplotlib.axes._subplots.AxesSubplot at 0x7f1f67504fd0>"
     },
     "metadata": {},
     "output_type": "execute_result",
     "execution_count": 7
    },
    {
     "data": {
      "text/plain": "<Figure size 432x288 with 1 Axes>",
      "image/png": "[encoded data removed]"
     },
     "metadata": {
      "needs_background": "light"
     },
     "output_type": "display_data"
    }
   ],
   "source": [
    "river_pd['water_level'].plot()\n"
   ],
   "metadata": {
    "collapsed": false,
    "pycharm": {
     "name": "#%%\n",
     "is_executing": false
    }
   }
  },
  {
   "cell_type": "code",
   "execution_count": 14,
   "outputs": [
    {
     "name": "stdout",
     "text": [
      "4\nstation_no          0\ndischarge           0\nwater_level    521311\ndelta1         521401\ndelta2         521407\ndelta3         521420\ndtype: int64\n",
      "         station_no      discharge    water_level         delta1  \\\ncount  9.233040e+05  923304.000000  401993.000000  401903.000000   \nmean   6.482084e+06     416.427735     181.659994      -0.008549   \nstd    2.563108e+05     822.960147     139.945517      19.756533   \nmin    6.335020e+06    -999.000000       0.000000    -412.000000   \n25%    6.335116e+06      10.530000      73.000000      -2.000000   \n50%    6.335430e+06      58.292500     145.481000       1.000000   \n75%    6.435060e+06     433.239000     248.000000       5.177083   \nmax    6.935540e+06   11885.000000    1064.000000     596.000000   \n\n              delta2         delta3  \ncount  401897.000000  401884.000000  \nmean       -0.016667      -0.024589  \nstd        32.475913      41.477551  \nmin      -535.000000    -563.000000  \n25%        -3.223000      -5.000000  \n50%         2.000000       2.000000  \n75%         9.000000      12.000000  \nmax       622.000000     621.000000  \n",
      "station_no          0\ndischarge       15026\nwater_level    521311\ndelta1         521401\ndelta2         521407\ndelta3         521420\ndtype: int64\n"
     ],
     "output_type": "stream"
    }
   ],
   "source": [
    "print((river_pd.water_level == 0.0).sum())\n",
    "print(river_pd.isnull().sum())\n",
    "print(river_pd.describe())\n",
    "\n",
    "river_pd = river_pd.replace(-999.0, np.NaN)\n",
    "\n",
    "river_pd['delta1'] = river_pd.water_level.shift(1) - river_pd.water_level\n",
    "river_pd['delta2'] = river_pd.water_level.shift(2) - river_pd.water_level\n",
    "river_pd['delta3'] = river_pd.water_level.shift(3) - river_pd.water_level\n",
    "\n",
    "river_pd.head(120)\n",
    "print(river_pd.isnull().sum())"
   ],
   "metadata": {
    "collapsed": false,
    "pycharm": {
     "name": "#%%\n",
     "is_executing": false
    }
   }
  },
  {
   "cell_type": "code",
   "execution_count": 16,
   "outputs": [],
   "source": [
    "river_pd.to_csv('river_data_processed.csv')"
   ],
   "metadata": {
    "collapsed": false,
    "pycharm": {
     "name": "#%%\n",
     "is_executing": false
    }
   }
  }
 ],
 "metadata": {
  "kernelspec": {
   "display_name": "Python 3",
   "language": "python",
   "name": "python3"
  },
  "language_info": {
   "codemirror_mode": {
    "name": "ipython",
    "version": 2
   },
   "file_extension": ".py",
   "mimetype": "text/x-python",
   "name": "python",
   "nbconvert_exporter": "python",
   "pygments_lexer": "ipython2",
   "version": "2.7.6"
  },
  "pycharm": {
   "stem_cell": {
    "cell_type": "raw",
    "source": [],
    "metadata": {
     "collapsed": false
    }
   }
  }
 },
 "nbformat": 4,
 "nbformat_minor": 0
}